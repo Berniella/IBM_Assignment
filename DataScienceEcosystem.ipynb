{
 "cells": [
  {
   "cell_type": "code",
   "execution_count": null,
   "id": "77a6fd7d-fb63-4911-8dbc-36b10215a359",
   "metadata": {},
   "outputs": [],
   "source": [
    "# Data Science Tools and Ecosystem"
   ]
  },
  {
   "cell_type": "markdown",
   "id": "9b8ed1bc-6669-45dd-bba1-82bd39cfd1e4",
   "metadata": {},
   "source": [
    "# Data Science Tools and Ecosystem"
   ]
  },
  {
   "cell_type": "code",
   "execution_count": null,
   "id": "a5e470d2-8085-4299-b8d7-78513f521496",
   "metadata": {},
   "outputs": [],
   "source": [
    "<p>In this notebook, Data Science Tools and Ecosystem are summarized.</p>"
   ]
  },
  {
   "cell_type": "markdown",
   "id": "df015e36-42cb-4024-ac37-c3b428ab4dc0",
   "metadata": {},
   "source": [
    "<p>In this notebook, Data Science Tools and Ecosystem are summarized.</p>"
   ]
  },
  {
   "cell_type": "markdown",
   "id": "251a32bf-d834-4dbe-bc03-3ea7667e1454",
   "metadata": {},
   "source": [
    "**Objectives**:\n",
    "\n",
    "* List of popular data science languages\n",
    "* Most commonly used libraries by data scientists\n",
    "* Creation of a table"
   ]
  },
  {
   "cell_type": "code",
   "execution_count": null,
   "id": "b54aec25-7c87-4ca8-bdc3-34c27e9a5167",
   "metadata": {},
   "outputs": [],
   "source": [
    "Some of the popular languages that Data Scientists use are:\n",
    "* R \n",
    "* Python\n",
    "* Julia\n",
    "* Scala\n",
    "* Java"
   ]
  },
  {
   "cell_type": "markdown",
   "id": "1916ee99-ede6-469a-96ed-ba4aa74c7c7b",
   "metadata": {},
   "source": [
    "Some of the popular languages that Data Scientists use are:\n",
    "* R \n",
    "* Python\n",
    "* Julia\n",
    "* Scala\n",
    "* Java"
   ]
  },
  {
   "cell_type": "code",
   "execution_count": null,
   "id": "ca955c87-8619-4e9f-a76f-265e72104e73",
   "metadata": {},
   "outputs": [],
   "source": [
    "Some of the commonly used libraries used by Data Scientists include:\n",
    "\n",
    "1. ggplot2\n",
    "2. caret\n",
    "3. Pandas\n",
    "4. Numpy"
   ]
  },
  {
   "cell_type": "markdown",
   "id": "72ea107b-b11b-4712-bf00-c47eb848cf72",
   "metadata": {},
   "source": [
    "Some of the commonly used libraries used by Data Scientists include:\n",
    "\n",
    "1. ggplot2\n",
    "2. caret\n",
    "3. Pandas\n",
    "4. Numpy"
   ]
  },
  {
   "cell_type": "code",
   "execution_count": null,
   "id": "576f7a06-8a3d-4150-b9d8-b9e19557e532",
   "metadata": {},
   "outputs": [],
   "source": [
    "| Data Science Tools |\n",
    "| ----------------------|\n",
    "| Vs Code|\n",
    "| Jupyterlab |\n",
    "| Rstudio |"
   ]
  },
  {
   "cell_type": "markdown",
   "id": "8fc90b58-9a83-41e8-8982-9e22812fcd05",
   "metadata": {},
   "source": [
    "| Data Science Tools |\n",
    "| ----------------------|\n",
    "| Vs Code|\n",
    "| Jupyterlab |\n",
    "| Rstudio |"
   ]
  },
  {
   "cell_type": "code",
   "execution_count": null,
   "id": "20e61ceb-dee1-490f-9a68-bbfa04f0378c",
   "metadata": {},
   "outputs": [],
   "source": [
    "### Below are a few examples of evaluating arithmetic expressions in Python"
   ]
  },
  {
   "cell_type": "markdown",
   "id": "57715f53-812a-4b6f-b85d-9c1e255cfb67",
   "metadata": {},
   "source": [
    "### Below are a few examples of evaluating arithmetic expressions in Python"
   ]
  },
  {
   "cell_type": "code",
   "execution_count": 6,
   "id": "8d2653d8-a6c5-4c74-ba81-4edebae8d56e",
   "metadata": {},
   "outputs": [
    {
     "data": {
      "text/plain": [
       "17"
      ]
     },
     "execution_count": 6,
     "metadata": {},
     "output_type": "execute_result"
    }
   ],
   "source": [
    "(3*4)+5 # This a simple arithmetic expression to mutiply then add integers"
   ]
  },
  {
   "cell_type": "code",
   "execution_count": 10,
   "id": "b32a3bea-c891-4037-a76b-6055fac78925",
   "metadata": {},
   "outputs": [
    {
     "name": "stdout",
     "output_type": "stream",
     "text": [
      "3.3333333333333335\n"
     ]
    }
   ],
   "source": [
    "minutes = 200\n",
    "hours = minutes/60 #This will convert 200 minutes to hours by diving by 60\n",
    "print(hours)"
   ]
  },
  {
   "cell_type": "markdown",
   "id": "af0b4bdb-bdac-4d3b-b646-70f3b3ec60b2",
   "metadata": {},
   "source": [
    "## Author\n",
    "Berniella Ayinkamiye"
   ]
  },
  {
   "cell_type": "code",
   "execution_count": null,
   "id": "f3d55d31-5fe1-4321-9a1d-362202182fbb",
   "metadata": {},
   "outputs": [],
   "source": []
  }
 ],
 "metadata": {
  "kernelspec": {
   "display_name": "Python 3 (ipykernel)",
   "language": "python",
   "name": "python3"
  },
  "language_info": {
   "codemirror_mode": {
    "name": "ipython",
    "version": 3
   },
   "file_extension": ".py",
   "mimetype": "text/x-python",
   "name": "python",
   "nbconvert_exporter": "python",
   "pygments_lexer": "ipython3",
   "version": "3.12.7"
  }
 },
 "nbformat": 4,
 "nbformat_minor": 5
}
